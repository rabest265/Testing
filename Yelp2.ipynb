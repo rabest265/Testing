{
 "cells": [
  {
   "cell_type": "code",
   "execution_count": 1,
   "metadata": {},
   "outputs": [],
   "source": [
    "# Dependencies\n",
    "import pandas as pd\n",
    "import os\n",
    "import numpy as np\n",
    "import requests\n",
    "import json\n",
    "from pprint import pprint\n",
    "from config import yelp_key\n",
    "from statistics import mean \n"
   ]
  },
  {
   "cell_type": "code",
   "execution_count": 2,
   "metadata": {},
   "outputs": [
    {
     "data": {
      "text/html": [
       "<div>\n",
       "<style scoped>\n",
       "    .dataframe tbody tr th:only-of-type {\n",
       "        vertical-align: middle;\n",
       "    }\n",
       "\n",
       "    .dataframe tbody tr th {\n",
       "        vertical-align: top;\n",
       "    }\n",
       "\n",
       "    .dataframe thead th {\n",
       "        text-align: right;\n",
       "    }\n",
       "</style>\n",
       "<table border=\"1\" class=\"dataframe\">\n",
       "  <thead>\n",
       "    <tr style=\"text-align: right;\">\n",
       "      <th></th>\n",
       "      <th>Cities</th>\n",
       "      <th>lat</th>\n",
       "      <th>lng</th>\n",
       "      <th>rating</th>\n",
       "      <th>price</th>\n",
       "      <th>sample_size</th>\n",
       "    </tr>\n",
       "  </thead>\n",
       "  <tbody>\n",
       "    <tr>\n",
       "      <th>0</th>\n",
       "      <td>New York City</td>\n",
       "      <td></td>\n",
       "      <td></td>\n",
       "      <td></td>\n",
       "      <td></td>\n",
       "      <td></td>\n",
       "    </tr>\n",
       "    <tr>\n",
       "      <th>1</th>\n",
       "      <td>Los Angeles</td>\n",
       "      <td></td>\n",
       "      <td></td>\n",
       "      <td></td>\n",
       "      <td></td>\n",
       "      <td></td>\n",
       "    </tr>\n",
       "    <tr>\n",
       "      <th>2</th>\n",
       "      <td>Miami</td>\n",
       "      <td></td>\n",
       "      <td></td>\n",
       "      <td></td>\n",
       "      <td></td>\n",
       "      <td></td>\n",
       "    </tr>\n",
       "    <tr>\n",
       "      <th>3</th>\n",
       "      <td>Denver</td>\n",
       "      <td></td>\n",
       "      <td></td>\n",
       "      <td></td>\n",
       "      <td></td>\n",
       "      <td></td>\n",
       "    </tr>\n",
       "  </tbody>\n",
       "</table>\n",
       "</div>"
      ],
      "text/plain": [
       "          Cities lat lng rating price sample_size\n",
       "0  New York City                                 \n",
       "1    Los Angeles                                 \n",
       "2          Miami                                 \n",
       "3         Denver                                 "
      ]
     },
     "execution_count": 2,
     "metadata": {},
     "output_type": "execute_result"
    }
   ],
   "source": [
    "infile = os.path.join (\"Resources\", \"cities.csv\")\n",
    "summary_df = pd.read_csv(infile)\n",
    "\n",
    "summary_df['lat'] = \"\"\n",
    "summary_df['lng'] = \"\"\n",
    "summary_df['rating']=\"\"\n",
    "summary_df['price']=\"\"\n",
    "summary_df['sample_size']=\"\"\n",
    "\n",
    "summary_df.head()"
   ]
  },
  {
   "cell_type": "code",
   "execution_count": 3,
   "metadata": {},
   "outputs": [
    {
     "name": "stdout",
     "output_type": "stream",
     "text": [
      "          Cities      lat      lng   rating    price sample_size\n",
      "0  New York City  40.7575 -73.9832  4.16667  1.66667           3\n",
      "1    Los Angeles  34.0513 -118.244  4.16667        2           3\n",
      "2          Miami  25.7799 -80.2124  4.33333        2           3\n",
      "3         Denver   39.753 -104.981      4.5        2           3\n"
     ]
    }
   ],
   "source": [
    "# set up header and base url\n",
    "headers = { 'Authorization': 'Bearer {}'.format(yelp_key),}\n",
    "base_url = \"https://api.yelp.com/v3/businesses/search\"\n",
    "\n",
    "# run the API for each city in the dataframe\n",
    "for row in range(0, len(summary_df)):\n",
    "    target_city = summary_df[\"Cities\"][row]\n",
    "    params = {\"Catergories\": \"Restaurant\", \"location\": target_city}\n",
    "    # Run request\n",
    "    response = requests.get(base_url, params=params, headers=headers)\n",
    "    # Convert to JSON\n",
    "    json_data = response.json()\n",
    "    #Create empty list to store all the results\n",
    "    lat =[]\n",
    "    lng = []\n",
    "    rating =[]\n",
    "    price = []\n",
    "    #Figure out the number of results in the json_data and store as sample size\n",
    "    length = len(json_data)\n",
    "    summary_df[\"sample_size\"][row] = length\n",
    "\n",
    "    # iterate over the results and put the values append the values in the lists\n",
    "    for entry in range (0, length):\n",
    "        lat.append(json_data[\"businesses\"][entry][\"coordinates\"][\"latitude\"])\n",
    "        lng.append(json_data[\"businesses\"][entry][\"coordinates\"][\"longitude\"])\n",
    "        rating.append(json_data[\"businesses\"][entry][\"rating\"])\n",
    "        price.append (len(json_data[\"businesses\"][entry][\"price\"]))\n",
    "\n",
    "    #Add the averages of the results to the dataframe\n",
    "    summary_df[\"lat\"][row] = mean(lat)\n",
    "    summary_df[\"lng\"][row] = mean(lng)\n",
    "    summary_df[\"rating\"][row]= mean(rating)\n",
    "    summary_df[\"price\"][row] = mean(price)\n",
    "    \n",
    "# print data\n",
    "print(summary_df)"
   ]
  },
  {
   "cell_type": "code",
   "execution_count": null,
   "metadata": {},
   "outputs": [],
   "source": []
  }
 ],
 "metadata": {
  "anaconda-cloud": {},
  "kernelspec": {
   "display_name": "Python 3",
   "language": "python",
   "name": "python3"
  },
  "language_info": {
   "codemirror_mode": {
    "name": "ipython",
    "version": 3
   },
   "file_extension": ".py",
   "mimetype": "text/x-python",
   "name": "python",
   "nbconvert_exporter": "python",
   "pygments_lexer": "ipython3",
   "version": "3.7.1"
  }
 },
 "nbformat": 4,
 "nbformat_minor": 1
}
